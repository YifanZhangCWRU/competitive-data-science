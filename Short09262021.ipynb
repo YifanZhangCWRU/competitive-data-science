{
 "cells": [
  {
   "cell_type": "markdown",
   "source": [
    "## Predict Future Sales"
   ],
   "metadata": {}
  },
  {
   "cell_type": "markdown",
   "source": [
    "### Import libraries\r\n",
    "It should work with Python 3.8. \r\n",
    "Tested on 9/.26/2021  Yifan Zhang"
   ],
   "metadata": {}
  },
  {
   "cell_type": "code",
   "execution_count": 9,
   "source": [
    "!pip install lightgbm\r\n",
    "!pip install tabulate\r\n"
   ],
   "outputs": [
    {
     "output_type": "stream",
     "name": "stdout",
     "text": [
      "Requirement already satisfied: lightgbm in d:\\pythonanaconda\\lib\\site-packages (3.2.1)\n",
      "Requirement already satisfied: scipy in d:\\pythonanaconda\\lib\\site-packages (from lightgbm) (1.5.0)\n",
      "Requirement already satisfied: numpy in d:\\pythonanaconda\\lib\\site-packages (from lightgbm) (1.18.5)\n",
      "Requirement already satisfied: scikit-learn!=0.22.0 in d:\\pythonanaconda\\lib\\site-packages (from lightgbm) (1.0)\n",
      "Requirement already satisfied: wheel in d:\\pythonanaconda\\lib\\site-packages (from lightgbm) (0.34.2)\n",
      "Requirement already satisfied: joblib>=0.11 in d:\\pythonanaconda\\lib\\site-packages (from scikit-learn!=0.22.0->lightgbm) (0.16.0)\n",
      "Requirement already satisfied: threadpoolctl>=2.0.0 in d:\\pythonanaconda\\lib\\site-packages (from scikit-learn!=0.22.0->lightgbm) (2.1.0)\n",
      "Requirement already satisfied: tabulate in d:\\pythonanaconda\\lib\\site-packages (0.8.9)\n"
     ]
    }
   ],
   "metadata": {}
  },
  {
   "cell_type": "code",
   "execution_count": 10,
   "source": [
    "import numpy as np\r\n",
    "import pandas as pd\r\n",
    "import matplotlib.pyplot as plt\r\n",
    "import seaborn as sns\r\n",
    "import sklearn\r\n",
    "import lightgbm as lgb\r\n",
    "import xgboost as xgb\r\n",
    "import pickle\r\n",
    "import gc\r\n",
    "\r\n",
    "for p in [np, pd, sklearn, lgb]:\r\n",
    "    print (p.__name__, p.__version__)\r\n",
    "from math import sqrt\r\n",
    "from numpy import loadtxt\r\n",
    "from itertools import product\r\n",
    "from tqdm import tqdm,tqdm_notebook\r\n",
    "\r\n",
    "from xgboost import plot_tree\r\n",
    "from xgboost import plot_importance\r\n",
    "from xgboost import XGBRegressor\r\n",
    "from matplotlib import pyplot\r\n",
    "\r\n",
    "from sklearn import preprocessing\r\n",
    "from sklearn.neighbors import KNeighborsRegressor\r\n",
    "from sklearn.model_selection import train_test_split\r\n",
    "from sklearn.metrics import accuracy_score\r\n",
    "from sklearn.metrics import mean_squared_error\r\n",
    "from sklearn.model_selection import KFold\r\n",
    "from sklearn.linear_model import LinearRegression\r\n",
    "from sklearn.metrics import r2_score\r\n",
    "from sklearn.preprocessing import StandardScaler, MinMaxScaler\r\n",
    "from sklearn.ensemble import RandomForestRegressor\r\n"
   ],
   "outputs": [
    {
     "output_type": "stream",
     "name": "stdout",
     "text": [
      "numpy 1.18.5\n",
      "pandas 1.0.5\n",
      "sklearn 1.0\n",
      "lightgbm 3.2.1\n"
     ]
    }
   ],
   "metadata": {}
  },
  {
   "cell_type": "code",
   "execution_count": 11,
   "source": [
    "for p in [np, pd, sklearn, lgb]:\r\n",
    "    print (p.__name__, p.__version__)"
   ],
   "outputs": [
    {
     "output_type": "stream",
     "name": "stdout",
     "text": [
      "numpy 1.18.5\n",
      "pandas 1.0.5\n",
      "sklearn 1.0\n",
      "lightgbm 3.2.1\n"
     ]
    }
   ],
   "metadata": {}
  },
  {
   "cell_type": "code",
   "execution_count": 12,
   "source": [
    "def downcast_dtypes(df):    \r\n",
    "    # Select columns to downcast\r\n",
    "    float_cols = [c for c in df if df[c].dtype == \"float64\"]\r\n",
    "    int_cols =   [c for c in df if df[c].dtype == \"int64\"]\r\n",
    "    \r\n",
    "    # Downcast\r\n",
    "    df[float_cols] = df[float_cols].astype(np.float32)\r\n",
    "    df[int_cols]   = df[int_cols].astype(np.int32)\r\n",
    "    \r\n",
    "    return df"
   ],
   "outputs": [],
   "metadata": {}
  },
  {
   "cell_type": "markdown",
   "source": [
    "### Load Dataset"
   ],
   "metadata": {}
  },
  {
   "cell_type": "code",
   "execution_count": 13,
   "source": [
    "sales = pd.read_csv('Dataset/sales_train.csv')\r\n",
    "shops = pd.read_csv('Dataset/shops.csv')\r\n",
    "items = pd.read_csv('Dataset/items.csv')\r\n",
    "items_categories = pd.read_csv('Dataset/item_categories.csv')\r\n",
    "sample_submission = pd.read_csv('Dataset/sample_submission.csv')\r\n",
    "test_data = pd.read_csv('Dataset/test.csv')"
   ],
   "outputs": [],
   "metadata": {}
  },
  {
   "cell_type": "code",
   "execution_count": 14,
   "source": [
    "sales.head().T"
   ],
   "outputs": [
    {
     "output_type": "execute_result",
     "data": {
      "text/html": [
       "<div>\n",
       "<style scoped>\n",
       "    .dataframe tbody tr th:only-of-type {\n",
       "        vertical-align: middle;\n",
       "    }\n",
       "\n",
       "    .dataframe tbody tr th {\n",
       "        vertical-align: top;\n",
       "    }\n",
       "\n",
       "    .dataframe thead th {\n",
       "        text-align: right;\n",
       "    }\n",
       "</style>\n",
       "<table border=\"1\" class=\"dataframe\">\n",
       "  <thead>\n",
       "    <tr style=\"text-align: right;\">\n",
       "      <th></th>\n",
       "      <th>0</th>\n",
       "      <th>1</th>\n",
       "      <th>2</th>\n",
       "      <th>3</th>\n",
       "      <th>4</th>\n",
       "    </tr>\n",
       "  </thead>\n",
       "  <tbody>\n",
       "    <tr>\n",
       "      <th>date</th>\n",
       "      <td>02.01.2013</td>\n",
       "      <td>03.01.2013</td>\n",
       "      <td>05.01.2013</td>\n",
       "      <td>06.01.2013</td>\n",
       "      <td>15.01.2013</td>\n",
       "    </tr>\n",
       "    <tr>\n",
       "      <th>date_block_num</th>\n",
       "      <td>0</td>\n",
       "      <td>0</td>\n",
       "      <td>0</td>\n",
       "      <td>0</td>\n",
       "      <td>0</td>\n",
       "    </tr>\n",
       "    <tr>\n",
       "      <th>shop_id</th>\n",
       "      <td>59</td>\n",
       "      <td>25</td>\n",
       "      <td>25</td>\n",
       "      <td>25</td>\n",
       "      <td>25</td>\n",
       "    </tr>\n",
       "    <tr>\n",
       "      <th>item_id</th>\n",
       "      <td>22154</td>\n",
       "      <td>2552</td>\n",
       "      <td>2552</td>\n",
       "      <td>2554</td>\n",
       "      <td>2555</td>\n",
       "    </tr>\n",
       "    <tr>\n",
       "      <th>item_price</th>\n",
       "      <td>999</td>\n",
       "      <td>899</td>\n",
       "      <td>899</td>\n",
       "      <td>1709.05</td>\n",
       "      <td>1099</td>\n",
       "    </tr>\n",
       "    <tr>\n",
       "      <th>item_cnt_day</th>\n",
       "      <td>1</td>\n",
       "      <td>1</td>\n",
       "      <td>-1</td>\n",
       "      <td>1</td>\n",
       "      <td>1</td>\n",
       "    </tr>\n",
       "  </tbody>\n",
       "</table>\n",
       "</div>"
      ],
      "text/plain": [
       "                         0           1           2           3           4\n",
       "date            02.01.2013  03.01.2013  05.01.2013  06.01.2013  15.01.2013\n",
       "date_block_num           0           0           0           0           0\n",
       "shop_id                 59          25          25          25          25\n",
       "item_id              22154        2552        2552        2554        2555\n",
       "item_price             999         899         899     1709.05        1099\n",
       "item_cnt_day             1           1          -1           1           1"
      ]
     },
     "metadata": {},
     "execution_count": 14
    }
   ],
   "metadata": {
    "scrolled": true
   }
  },
  {
   "cell_type": "markdown",
   "source": [
    "## Part 1. Exploratory Data Analysis\r\n",
    "Visualize the data, plot trends, discard and impute outliers\r\n",
    "Organize the data to establish training set"
   ],
   "metadata": {}
  },
  {
   "cell_type": "markdown",
   "source": [
    "### Number of items per category"
   ],
   "metadata": {}
  },
  {
   "cell_type": "code",
   "execution_count": 15,
   "source": [
    "items_per_category = items.item_category_id.value_counts().iloc[:10]\r\n",
    "items_per_category = items_per_category.sort_index(sort_remaining=True)"
   ],
   "outputs": [],
   "metadata": {}
  },
  {
   "cell_type": "code",
   "execution_count": 16,
   "source": [
    "sns.barplot(items_per_category.index, items_per_category.values)\r\n",
    "plt.xlabel(\"Item Category\")\r\n",
    "plt.ylabel(\"Number of items\")\r\n",
    "plt.title(\"Number of items per category\")"
   ],
   "outputs": [
    {
     "output_type": "execute_result",
     "data": {
      "text/plain": [
       "Text(0.5, 1.0, 'Number of items per category')"
      ]
     },
     "metadata": {},
     "execution_count": 16
    },
    {
     "output_type": "display_data",
     "data": {
      "image/png": "[encoded data removed]",
      "text/plain": [
       "<Figure size 432x288 with 1 Axes>"
      ]
     },
     "metadata": {
      "needs_background": "light"
     }
    }
   ],
   "metadata": {}
  },
  {
   "cell_type": "markdown",
   "source": [
    "### Popular shops based on item count in the last 33 months"
   ],
   "metadata": {}
  },
  {
   "cell_type": "code",
   "execution_count": 17,
   "source": [
    "popular_shops = sales.groupby('shop_id')['item_cnt_day'].sum()\r\n",
    "popular_shops = popular_shops.sort_values(ascending=False)[:5]"
   ],
   "outputs": [],
   "metadata": {}
  },
  {
   "cell_type": "code",
   "execution_count": 18,
   "source": [
    "sns.barplot(popular_shops.index, popular_shops.values)\r\n",
    "plt.xlabel(\"Shop ID\")\r\n",
    "plt.ylabel(\"Count\")\r\n",
    "plt.title(\"Popular shops\")"
   ],
   "outputs": [
    {
     "output_type": "execute_result",
     "data": {
      "text/plain": [
       "Text(0.5, 1.0, 'Popular shops')"
      ]
     },
     "metadata": {},
     "execution_count": 18
    },
    {
     "output_type": "display_data",
     "data": {
      "image/png": "[encoded data removed]",
      "text/plain": [
       "<Figure size 432x288 with 1 Axes>"
      ]
     },
     "metadata": {
      "needs_background": "light"
     }
    }
   ],
   "metadata": {}
  },
  {
   "cell_type": "markdown",
   "source": [
    "- \"31\" is the shop that sold more number of items in the last 33 months."
   ],
   "metadata": {}
  },
  {
   "cell_type": "markdown",
   "source": [
    "### Popular items based on item count in the last 33 months"
   ],
   "metadata": {}
  },
  {
   "cell_type": "code",
   "execution_count": 19,
   "source": [
    "popular_items = sales.groupby('item_id')['item_cnt_day'].sum()\r\n",
    "popular_items = popular_items.sort_values(ascending=False)[:5]"
   ],
   "outputs": [],
   "metadata": {}
  },
  {
   "cell_type": "code",
   "execution_count": 20,
   "source": [
    "sns.barplot(popular_items.index, popular_items.values)\r\n",
    "plt.xlabel(\"Item ID\")\r\n",
    "plt.ylabel(\"Count\")\r\n",
    "plt.title(\"Popular items\")"
   ],
   "outputs": [
    {
     "output_type": "execute_result",
     "data": {
      "text/plain": [
       "Text(0.5, 1.0, 'Popular items')"
      ]
     },
     "metadata": {},
     "execution_count": 20
    },
    {
     "output_type": "display_data",
     "data": {
      "image/png": "[encoded data removed]",
      "text/plain": [
       "<Figure size 432x288 with 1 Axes>"
      ]
     },
     "metadata": {
      "needs_background": "light"
     }
    }
   ],
   "metadata": {}
  },
  {
   "cell_type": "markdown",
   "source": [
    "- \"20949\" is the item that was sold more number of items in the last 33 months."
   ],
   "metadata": {}
  },
  {
   "cell_type": "markdown",
   "source": [
    "### Count of items sold in each month"
   ],
   "metadata": {}
  },
  {
   "cell_type": "code",
   "execution_count": 21,
   "source": [
    "item_cnt_month = sales.groupby('date_block_num')['item_cnt_day'].sum()"
   ],
   "outputs": [],
   "metadata": {}
  },
  {
   "cell_type": "code",
   "execution_count": 22,
   "source": [
    "plt.figure(figsize=(15,5))\r\n",
    "sns.barplot(item_cnt_month.index, item_cnt_month.values)\r\n",
    "plt.plot(item_cnt_month.index, item_cnt_month.values)\r\n",
    "plt.xlabel(\"Month number\")\r\n",
    "plt.ylabel(\"Count\")\r\n",
    "plt.title(\"Number of items sold in each month\")"
   ],
   "outputs": [
    {
     "output_type": "execute_result",
     "data": {
      "text/plain": [
       "Text(0.5, 1.0, 'Number of items sold in each month')"
      ]
     },
     "metadata": {},
     "execution_count": 22
    },
    {
     "output_type": "display_data",
     "data": {
      "image/png": "[encoded data removed]",
      "text/plain": [
       "<Figure size 1080x360 with 1 Axes>"
      ]
     },
     "metadata": {
      "needs_background": "light"
     }
    }
   ],
   "metadata": {}
  },
  {
   "cell_type": "markdown",
   "source": [
    "- At the end, the number of items sold are decreasing.\n",
    "- The highest number of items that are sold in 11th month."
   ],
   "metadata": {}
  },
  {
   "cell_type": "markdown",
   "source": [
    "### Total price of items sold in each month"
   ],
   "metadata": {}
  },
  {
   "cell_type": "code",
   "execution_count": 23,
   "source": [
    "price_cnt_month = sales.groupby('date_block_num')['item_price'].sum()"
   ],
   "outputs": [],
   "metadata": {}
  },
  {
   "cell_type": "code",
   "execution_count": 24,
   "source": [
    "plt.figure(figsize=(15,5))\r\n",
    "sns.barplot(price_cnt_month.index, price_cnt_month.values)\r\n",
    "plt.plot(price_cnt_month.index, price_cnt_month.values)\r\n",
    "plt.xlabel(\"Month number\")\r\n",
    "plt.ylabel(\"Count\")\r\n",
    "plt.title(\"Total price of items sold in each month\")"
   ],
   "outputs": [
    {
     "output_type": "execute_result",
     "data": {
      "text/plain": [
       "Text(0.5, 1.0, 'Total price of items sold in each month')"
      ]
     },
     "metadata": {},
     "execution_count": 24
    },
    {
     "output_type": "display_data",
     "data": {
      "image/png": "[encoded data removed]",
      "text/plain": [
       "<Figure size 1080x360 with 1 Axes>"
      ]
     },
     "metadata": {
      "needs_background": "light"
     }
    }
   ],
   "metadata": {}
  },
  {
   "cell_type": "markdown",
   "source": [
    "### Correlation between \"Number of items sold\" and \"Total price of all items\" in each month"
   ],
   "metadata": {}
  },
  {
   "cell_type": "code",
   "execution_count": 25,
   "source": [
    "np.corrcoef(item_cnt_month.values, price_cnt_month.values)"
   ],
   "outputs": [
    {
     "output_type": "execute_result",
     "data": {
      "text/plain": [
       "array([[1.        , 0.73469191],\n",
       "       [0.73469191, 1.        ]])"
      ]
     },
     "metadata": {},
     "execution_count": 25
    }
   ],
   "metadata": {}
  },
  {
   "cell_type": "code",
   "execution_count": 26,
   "source": [
    "print(items.item_id.nunique())\r\n",
    "print(items.item_category_id.nunique())\r\n",
    "sales.describe().T"
   ],
   "outputs": [
    {
     "output_type": "stream",
     "name": "stdout",
     "text": [
      "22170\n",
      "84\n"
     ]
    },
    {
     "output_type": "execute_result",
     "data": {
      "text/html": [
       "<div>\n",
       "<style scoped>\n",
       "    .dataframe tbody tr th:only-of-type {\n",
       "        vertical-align: middle;\n",
       "    }\n",
       "\n",
       "    .dataframe tbody tr th {\n",
       "        vertical-align: top;\n",
       "    }\n",
       "\n",
       "    .dataframe thead th {\n",
       "        text-align: right;\n",
       "    }\n",
       "</style>\n",
       "<table border=\"1\" class=\"dataframe\">\n",
       "  <thead>\n",
       "    <tr style=\"text-align: right;\">\n",
       "      <th></th>\n",
       "      <th>count</th>\n",
       "      <th>mean</th>\n",
       "      <th>std</th>\n",
       "      <th>min</th>\n",
       "      <th>25%</th>\n",
       "      <th>50%</th>\n",
       "      <th>75%</th>\n",
       "      <th>max</th>\n",
       "    </tr>\n",
       "  </thead>\n",
       "  <tbody>\n",
       "    <tr>\n",
       "      <th>date_block_num</th>\n",
       "      <td>2935849.0</td>\n",
       "      <td>14.569911</td>\n",
       "      <td>9.422988</td>\n",
       "      <td>0.0</td>\n",
       "      <td>7.0</td>\n",
       "      <td>14.0</td>\n",
       "      <td>23.0</td>\n",
       "      <td>33.0</td>\n",
       "    </tr>\n",
       "    <tr>\n",
       "      <th>shop_id</th>\n",
       "      <td>2935849.0</td>\n",
       "      <td>33.001728</td>\n",
       "      <td>16.226973</td>\n",
       "      <td>0.0</td>\n",
       "      <td>22.0</td>\n",
       "      <td>31.0</td>\n",
       "      <td>47.0</td>\n",
       "      <td>59.0</td>\n",
       "    </tr>\n",
       "    <tr>\n",
       "      <th>item_id</th>\n",
       "      <td>2935849.0</td>\n",
       "      <td>10197.227057</td>\n",
       "      <td>6324.297354</td>\n",
       "      <td>0.0</td>\n",
       "      <td>4476.0</td>\n",
       "      <td>9343.0</td>\n",
       "      <td>15684.0</td>\n",
       "      <td>22169.0</td>\n",
       "    </tr>\n",
       "    <tr>\n",
       "      <th>item_price</th>\n",
       "      <td>2935849.0</td>\n",
       "      <td>890.853233</td>\n",
       "      <td>1729.799631</td>\n",
       "      <td>-1.0</td>\n",
       "      <td>249.0</td>\n",
       "      <td>399.0</td>\n",
       "      <td>999.0</td>\n",
       "      <td>307980.0</td>\n",
       "    </tr>\n",
       "    <tr>\n",
       "      <th>item_cnt_day</th>\n",
       "      <td>2935849.0</td>\n",
       "      <td>1.242641</td>\n",
       "      <td>2.618834</td>\n",
       "      <td>-22.0</td>\n",
       "      <td>1.0</td>\n",
       "      <td>1.0</td>\n",
       "      <td>1.0</td>\n",
       "      <td>2169.0</td>\n",
       "    </tr>\n",
       "  </tbody>\n",
       "</table>\n",
       "</div>"
      ],
      "text/plain": [
       "                    count          mean          std   min     25%     50%  \\\n",
       "date_block_num  2935849.0     14.569911     9.422988   0.0     7.0    14.0   \n",
       "shop_id         2935849.0     33.001728    16.226973   0.0    22.0    31.0   \n",
       "item_id         2935849.0  10197.227057  6324.297354   0.0  4476.0  9343.0   \n",
       "item_price      2935849.0    890.853233  1729.799631  -1.0   249.0   399.0   \n",
       "item_cnt_day    2935849.0      1.242641     2.618834 -22.0     1.0     1.0   \n",
       "\n",
       "                    75%       max  \n",
       "date_block_num     23.0      33.0  \n",
       "shop_id            47.0      59.0  \n",
       "item_id         15684.0   22169.0  \n",
       "item_price        999.0  307980.0  \n",
       "item_cnt_day        1.0    2169.0  "
      ]
     },
     "metadata": {},
     "execution_count": 26
    }
   ],
   "metadata": {}
  },
  {
   "cell_type": "code",
   "execution_count": 27,
   "source": [
    "# Impute outliers, price cannot go negative\r\n",
    "sales[sales.item_price<0].head(5)\r\n",
    "priceimpute=sales[sales.item_price>0].median()\r\n",
    "print(priceimpute)"
   ],
   "outputs": [
    {
     "output_type": "stream",
     "name": "stdout",
     "text": [
      "date_block_num      14.0\n",
      "shop_id             31.0\n",
      "item_id           9343.0\n",
      "item_price         399.0\n",
      "item_cnt_day         1.0\n",
      "dtype: float64\n"
     ]
    }
   ],
   "metadata": {}
  },
  {
   "cell_type": "code",
   "execution_count": 28,
   "source": [
    "plt.figure(figsize=(10,5))\r\n",
    "plt.xlim(sales.item_price.min(), sales.item_price.max()*1.2)\r\n",
    "plt.title ('item_price in raw training dataset')\r\n",
    "sns.boxplot(x=sales.item_price)"
   ],
   "outputs": [
    {
     "output_type": "execute_result",
     "data": {
      "text/plain": [
       "<matplotlib.axes._subplots.AxesSubplot at 0x1b882331610>"
      ]
     },
     "metadata": {},
     "execution_count": 28
    },
    {
     "output_type": "display_data",
     "data": {
      "image/png": "[encoded data removed]",
      "text/plain": [
       "<Figure size 720x360 with 1 Axes>"
      ]
     },
     "metadata": {
      "needs_background": "light"
     }
    }
   ],
   "metadata": {}
  },
  {
   "cell_type": "code",
   "execution_count": 29,
   "source": [
    "sales.loc[sales.item_price>300000,'item_price']=priceimpute.item_price\r\n",
    "sales.loc[sales.item_price<0,'item_price']=priceimpute.item_price\r\n",
    "# We also see that items priced 300K is an outlier, impute it with median as well\r\n",
    "# impute the data point which has outlier pricing\r\n",
    "plt.figure(figsize=(10,5))\r\n",
    "plt.xlim(sales.item_price.min(), sales.item_price.max()*1.2)\r\n",
    "plt.title ('item_price in raw training dataset (after imputing)')\r\n",
    "sns.boxplot(x=sales.item_price)"
   ],
   "outputs": [
    {
     "output_type": "execute_result",
     "data": {
      "text/plain": [
       "<matplotlib.axes._subplots.AxesSubplot at 0x1b8821a5580>"
      ]
     },
     "metadata": {},
     "execution_count": 29
    },
    {
     "output_type": "display_data",
     "data": {
      "image/png": "[encoded data removed]",
      "text/plain": [
       "<Figure size 720x360 with 1 Axes>"
      ]
     },
     "metadata": {
      "needs_background": "light"
     }
    }
   ],
   "metadata": {}
  },
  {
   "cell_type": "code",
   "execution_count": 30,
   "source": [
    "plt.figure(figsize=(10,5))\r\n",
    "plt.title ('item_cnt_day histogram')\r\n",
    "plt.hist(x=sales.item_cnt_day,bins=np.linspace(-20,40,31))  \r\n",
    "# the bins are from -20:2:40 \r\n",
    "plt.xlim(-20,40)\r\n",
    "plt.ylim(0,1e4)\r\n",
    "# We see that a lot of data will need to be trimmed out\r\n",
    "# since we are prediction item_cnt_month with data clipped to [0,20], the original data with item_cnt_day>20 will need to be discarded\r\n",
    "# for now we do not wish to impute the item_cnt_day.\r\n",
    "# we shall trim it after aggregate it by month"
   ],
   "outputs": [
    {
     "output_type": "execute_result",
     "data": {
      "text/plain": [
       "(0.0, 10000.0)"
      ]
     },
     "metadata": {},
     "execution_count": 30
    },
    {
     "output_type": "display_data",
     "data": {
      "image/png": "[encoded data removed]",
      "text/plain": [
       "<Figure size 720x360 with 1 Axes>"
      ]
     },
     "metadata": {
      "needs_background": "light"
     }
    }
   ],
   "metadata": {}
  },
  {
   "cell_type": "code",
   "execution_count": null,
   "source": [
    "temp=sales\r\n",
    "print('total unique items ')\r\n",
    "print(temp['item_id'].nunique())\r\n",
    "print('\\n total unique shops')\r\n",
    "print(temp['shop_id'].nunique())\r\n",
    "print('\\n total unique prices')\r\n",
    "print(temp['item_price'].nunique())\r\n",
    "print('\\n total unique daily sale count')\r\n",
    "print(temp['item_cnt_day'].nunique())\r\n",
    "print ('\\ntheoretical max combination of item,shop,and month')\r\n",
    "print(temp['item_id'].nunique()*temp['shop_id'].nunique()*temp['date_block_num'].nunique())\r\n",
    "print('\\ntraining dataset size is')\r\n",
    "print(temp.shape)"
   ],
   "outputs": [],
   "metadata": {}
  },
  {
   "cell_type": "markdown",
   "source": [
    "### Part 2 Feature Engineering\r\n",
    "### Test data - Add date_block_num=34. Because Nov 2015 is block 33+1"
   ],
   "metadata": {}
  },
  {
   "cell_type": "code",
   "execution_count": 31,
   "source": [
    "test_block = 34\r\n",
    "test_data['date_block_num'] = test_block\r\n",
    "test_data = test_data.drop(columns=['ID'])\r\n",
    "test_data.head()"
   ],
   "outputs": [
    {
     "output_type": "execute_result",
     "data": {
      "text/html": [
       "<div>\n",
       "<style scoped>\n",
       "    .dataframe tbody tr th:only-of-type {\n",
       "        vertical-align: middle;\n",
       "    }\n",
       "\n",
       "    .dataframe tbody tr th {\n",
       "        vertical-align: top;\n",
       "    }\n",
       "\n",
       "    .dataframe thead th {\n",
       "        text-align: right;\n",
       "    }\n",
       "</style>\n",
       "<table border=\"1\" class=\"dataframe\">\n",
       "  <thead>\n",
       "    <tr style=\"text-align: right;\">\n",
       "      <th></th>\n",
       "      <th>shop_id</th>\n",
       "      <th>item_id</th>\n",
       "      <th>date_block_num</th>\n",
       "    </tr>\n",
       "  </thead>\n",
       "  <tbody>\n",
       "    <tr>\n",
       "      <th>0</th>\n",
       "      <td>5</td>\n",
       "      <td>5037</td>\n",
       "      <td>34</td>\n",
       "    </tr>\n",
       "    <tr>\n",
       "      <th>1</th>\n",
       "      <td>5</td>\n",
       "      <td>5320</td>\n",
       "      <td>34</td>\n",
       "    </tr>\n",
       "    <tr>\n",
       "      <th>2</th>\n",
       "      <td>5</td>\n",
       "      <td>5233</td>\n",
       "      <td>34</td>\n",
       "    </tr>\n",
       "    <tr>\n",
       "      <th>3</th>\n",
       "      <td>5</td>\n",
       "      <td>5232</td>\n",
       "      <td>34</td>\n",
       "    </tr>\n",
       "    <tr>\n",
       "      <th>4</th>\n",
       "      <td>5</td>\n",
       "      <td>5268</td>\n",
       "      <td>34</td>\n",
       "    </tr>\n",
       "  </tbody>\n",
       "</table>\n",
       "</div>"
      ],
      "text/plain": [
       "   shop_id  item_id  date_block_num\n",
       "0        5     5037              34\n",
       "1        5     5320              34\n",
       "2        5     5233              34\n",
       "3        5     5232              34\n",
       "4        5     5268              34"
      ]
     },
     "metadata": {},
     "execution_count": 31
    }
   ],
   "metadata": {}
  },
  {
   "cell_type": "markdown",
   "source": [
    "### Create grid from all shops/items combinations from that month"
   ],
   "metadata": {}
  },
  {
   "cell_type": "code",
   "execution_count": 32,
   "source": [
    "# Create \"grid\" with columns\r\n",
    "index_cols = ['shop_id', 'item_id', 'date_block_num']\r\n",
    "\r\n",
    "# For every month we create a grid from all shops/items combinations from that month\r\n",
    "grid = []\r\n",
    "for block_num in sales['date_block_num'].unique():\r\n",
    "    cur_shops = sales.loc[sales['date_block_num'] == block_num, 'shop_id'].unique()\r\n",
    "    cur_items = sales.loc[sales['date_block_num'] == block_num, 'item_id'].unique()\r\n",
    "    grid.append(np.array(list(product(*[cur_shops, cur_items, [block_num]])),dtype='int32'))\r\n",
    "\r\n",
    "grid = pd.DataFrame(np.vstack(grid), columns = index_cols, dtype=np.int32)\r\n",
    "grid = pd.concat([grid, test_data])"
   ],
   "outputs": [],
   "metadata": {}
  },
  {
   "cell_type": "code",
   "execution_count": null,
   "source": [
    "grid.head()"
   ],
   "outputs": [],
   "metadata": {}
  },
  {
   "cell_type": "markdown",
   "source": [
    "### Create features by grouping shops, items and month"
   ],
   "metadata": {}
  },
  {
   "cell_type": "code",
   "execution_count": 33,
   "source": [
    "# Groupby data to get shop-item-month aggregates\r\n",
    "gb = sales.groupby(index_cols, as_index=False)['item_cnt_day'].sum()\r\n",
    "gb = gb.rename(columns={'item_cnt_day': 'target'})\r\n",
    "all_data = pd.merge(grid, gb, how='left', on=index_cols).fillna(0)\r\n",
    "\r\n",
    "# Same as above but with shop-month aggregates\r\n",
    "gb = sales.groupby(['shop_id', 'date_block_num'], as_index=False)['item_cnt_day'].sum()\r\n",
    "gb = gb.rename(columns={'item_cnt_day': 'target_shop'})\r\n",
    "all_data = pd.merge(all_data, gb, how='left', on=['shop_id', 'date_block_num']).fillna(0)\r\n",
    "\r\n",
    "# Same as above but with item-month aggregates\r\n",
    "gb = sales.groupby(['item_id', 'date_block_num'], as_index=False)['item_cnt_day'].sum()\r\n",
    "gb = gb.rename(columns={'item_cnt_day': 'target_item'})\r\n",
    "all_data = pd.merge(all_data, gb, how='left', on=['item_id', 'date_block_num']).fillna(0)\r\n",
    "\r\n",
    "# Downcast dtypes from 64 to 32 bit to save memory\r\n",
    "all_data = downcast_dtypes(all_data)\r\n",
    "del grid, gb \r\n",
    "gc.collect();"
   ],
   "outputs": [],
   "metadata": {}
  },
  {
   "cell_type": "code",
   "execution_count": 34,
   "source": [
    "all_data.head()"
   ],
   "outputs": [
    {
     "output_type": "execute_result",
     "data": {
      "text/html": [
       "<div>\n",
       "<style scoped>\n",
       "    .dataframe tbody tr th:only-of-type {\n",
       "        vertical-align: middle;\n",
       "    }\n",
       "\n",
       "    .dataframe tbody tr th {\n",
       "        vertical-align: top;\n",
       "    }\n",
       "\n",
       "    .dataframe thead th {\n",
       "        text-align: right;\n",
       "    }\n",
       "</style>\n",
       "<table border=\"1\" class=\"dataframe\">\n",
       "  <thead>\n",
       "    <tr style=\"text-align: right;\">\n",
       "      <th></th>\n",
       "      <th>shop_id</th>\n",
       "      <th>item_id</th>\n",
       "      <th>date_block_num</th>\n",
       "      <th>target</th>\n",
       "      <th>target_shop</th>\n",
       "      <th>target_item</th>\n",
       "    </tr>\n",
       "  </thead>\n",
       "  <tbody>\n",
       "    <tr>\n",
       "      <th>0</th>\n",
       "      <td>59</td>\n",
       "      <td>22154</td>\n",
       "      <td>0</td>\n",
       "      <td>1.0</td>\n",
       "      <td>2017.0</td>\n",
       "      <td>18.0</td>\n",
       "    </tr>\n",
       "    <tr>\n",
       "      <th>1</th>\n",
       "      <td>59</td>\n",
       "      <td>2552</td>\n",
       "      <td>0</td>\n",
       "      <td>0.0</td>\n",
       "      <td>2017.0</td>\n",
       "      <td>0.0</td>\n",
       "    </tr>\n",
       "    <tr>\n",
       "      <th>2</th>\n",
       "      <td>59</td>\n",
       "      <td>2554</td>\n",
       "      <td>0</td>\n",
       "      <td>0.0</td>\n",
       "      <td>2017.0</td>\n",
       "      <td>1.0</td>\n",
       "    </tr>\n",
       "    <tr>\n",
       "      <th>3</th>\n",
       "      <td>59</td>\n",
       "      <td>2555</td>\n",
       "      <td>0</td>\n",
       "      <td>0.0</td>\n",
       "      <td>2017.0</td>\n",
       "      <td>2.0</td>\n",
       "    </tr>\n",
       "    <tr>\n",
       "      <th>4</th>\n",
       "      <td>59</td>\n",
       "      <td>2564</td>\n",
       "      <td>0</td>\n",
       "      <td>0.0</td>\n",
       "      <td>2017.0</td>\n",
       "      <td>5.0</td>\n",
       "    </tr>\n",
       "  </tbody>\n",
       "</table>\n",
       "</div>"
      ],
      "text/plain": [
       "   shop_id  item_id  date_block_num  target  target_shop  target_item\n",
       "0       59    22154               0     1.0       2017.0         18.0\n",
       "1       59     2552               0     0.0       2017.0          0.0\n",
       "2       59     2554               0     0.0       2017.0          1.0\n",
       "3       59     2555               0     0.0       2017.0          2.0\n",
       "4       59     2564               0     0.0       2017.0          5.0"
      ]
     },
     "metadata": {},
     "execution_count": 34
    }
   ],
   "metadata": {
    "scrolled": true
   }
  },
  {
   "cell_type": "markdown",
   "source": [
    "### Create features using previous months data - Different lags"
   ],
   "metadata": {}
  },
  {
   "cell_type": "code",
   "execution_count": 35,
   "source": [
    "# List of columns that we will use to create lags\r\n",
    "cols_to_rename = list(all_data.columns.difference(index_cols))\r\n",
    "shift_range = [1, 2, 3, 12]\r\n",
    "\r\n",
    "for month_shift in tqdm_notebook(shift_range):\r\n",
    "    train_shift = all_data[index_cols + cols_to_rename].copy()\r\n",
    "    train_shift['date_block_num'] = train_shift['date_block_num'] + month_shift\r\n",
    "\r\n",
    "    foo = lambda x: '{}_lag_{}'.format(x, month_shift) if x in cols_to_rename else x\r\n",
    "    train_shift = train_shift.rename(columns=foo)\r\n",
    "\r\n",
    "    all_data = pd.merge(all_data, train_shift, on=index_cols, how='left').fillna(0)\r\n",
    "    \r\n",
    "del train_shift"
   ],
   "outputs": [
    {
     "output_type": "stream",
     "name": "stderr",
     "text": [
      "<ipython-input-35-212de1725656>:5: TqdmDeprecationWarning: This function will be removed in tqdm==5.0.0\n",
      "Please use `tqdm.notebook.tqdm` instead of `tqdm.tqdm_notebook`\n",
      "  for month_shift in tqdm_notebook(shift_range):\n"
     ]
    },
    {
     "output_type": "display_data",
     "data": {
      "application/vnd.jupyter.widget-view+json": {
       "version_major": 2,
       "version_minor": 0,
       "model_id": "56182831fe7f468092aa96b63eb6219a"
      },
      "text/plain": [
       "HBox(children=(FloatProgress(value=0.0, max=4.0), HTML(value='')))"
      ]
     },
     "metadata": {}
    },
    {
     "output_type": "stream",
     "name": "stdout",
     "text": [
      "\n"
     ]
    }
   ],
   "metadata": {}
  },
  {
   "cell_type": "code",
   "execution_count": null,
   "source": [
    "all_data.head()"
   ],
   "outputs": [],
   "metadata": {}
  },
  {
   "cell_type": "markdown",
   "source": [
    "### Add \"item category id\" as a feature"
   ],
   "metadata": {}
  },
  {
   "cell_type": "code",
   "execution_count": 36,
   "source": [
    "# Don't use old data from year 2013, since we used delay of 12 month. The first 12 months item_cnt_month won't be valid\r\n",
    "all_data = all_data[all_data['date_block_num'] >= 12]\r\n",
    "\r\n",
    "# List of all lagged features\r\n",
    "fit_cols = [col for col in all_data.columns if col[-1] in [str(item) for item in shift_range]]\r\n",
    "# We will drop these at fitting stage\r\n",
    "to_drop_cols = ['target_item', 'target_shop', 'target', 'date_block_num']\r\n",
    "to_drop_cols = list(set(list(all_data.columns)) - (set(fit_cols)|set(index_cols))) + ['date_block_num']\r\n",
    "\r\n",
    "# Category for each item\r\n",
    "item_category_mapping = items[['item_id', 'item_category_id']].drop_duplicates()\r\n",
    "all_data = pd.merge(all_data, item_category_mapping, how='left', on='item_id')\r\n",
    "# THIS ENSURES THAT category gets carried over to the all-data dataset  , both training and test\r\n",
    "all_data = downcast_dtypes(all_data)\r\n",
    "\r\n",
    "gc.collect()"
   ],
   "outputs": [
    {
     "output_type": "execute_result",
     "data": {
      "text/plain": [
       "62"
      ]
     },
     "metadata": {},
     "execution_count": 36
    }
   ],
   "metadata": {}
  },
  {
   "cell_type": "code",
   "execution_count": 68,
   "source": [
    "item_category_mapping.head(5)"
   ],
   "outputs": [
    {
     "output_type": "execute_result",
     "data": {
      "text/html": [
       "<div>\n",
       "<style scoped>\n",
       "    .dataframe tbody tr th:only-of-type {\n",
       "        vertical-align: middle;\n",
       "    }\n",
       "\n",
       "    .dataframe tbody tr th {\n",
       "        vertical-align: top;\n",
       "    }\n",
       "\n",
       "    .dataframe thead th {\n",
       "        text-align: right;\n",
       "    }\n",
       "</style>\n",
       "<table border=\"1\" class=\"dataframe\">\n",
       "  <thead>\n",
       "    <tr style=\"text-align: right;\">\n",
       "      <th></th>\n",
       "      <th>item_id</th>\n",
       "      <th>item_category_id</th>\n",
       "    </tr>\n",
       "  </thead>\n",
       "  <tbody>\n",
       "    <tr>\n",
       "      <th>0</th>\n",
       "      <td>0</td>\n",
       "      <td>40</td>\n",
       "    </tr>\n",
       "    <tr>\n",
       "      <th>1</th>\n",
       "      <td>1</td>\n",
       "      <td>76</td>\n",
       "    </tr>\n",
       "    <tr>\n",
       "      <th>2</th>\n",
       "      <td>2</td>\n",
       "      <td>40</td>\n",
       "    </tr>\n",
       "    <tr>\n",
       "      <th>3</th>\n",
       "      <td>3</td>\n",
       "      <td>40</td>\n",
       "    </tr>\n",
       "    <tr>\n",
       "      <th>4</th>\n",
       "      <td>4</td>\n",
       "      <td>40</td>\n",
       "    </tr>\n",
       "  </tbody>\n",
       "</table>\n",
       "</div>"
      ],
      "text/plain": [
       "   item_id  item_category_id\n",
       "0        0                40\n",
       "1        1                76\n",
       "2        2                40\n",
       "3        3                40\n",
       "4        4                40"
      ]
     },
     "metadata": {},
     "execution_count": 68
    }
   ],
   "metadata": {}
  },
  {
   "cell_type": "code",
   "execution_count": 50,
   "source": [
    "# More feature engineering - add month and year data\r\n",
    "all_data['year'] = all_data['date_block_num'].apply(lambda x: ((x//12) + 2013))\r\n",
    "all_data['month']= all_data['date_block_num'].apply(lambda x: (x % 12)+ 1 )"
   ],
   "outputs": [],
   "metadata": {}
  },
  {
   "cell_type": "markdown",
   "source": [
    "### Final data - Will be used for training and validation"
   ],
   "metadata": {}
  },
  {
   "cell_type": "code",
   "execution_count": null,
   "source": [
    "all_data.head()"
   ],
   "outputs": [],
   "metadata": {}
  },
  {
   "cell_type": "code",
   "execution_count": 74,
   "source": [
    "to_drop_cols"
   ],
   "outputs": [
    {
     "output_type": "execute_result",
     "data": {
      "text/plain": [
       "['target_item', 'target', 'target_shop', 'date_block_num']"
      ]
     },
     "metadata": {},
     "execution_count": 74
    }
   ],
   "metadata": {}
  },
  {
   "cell_type": "markdown",
   "source": [
    "### Split data - Train and Test\r\n",
    "# Because we have first 12 month raw data discarded, that left us 34-12=22 datasets\r\n",
    "# we use 6 of them for validation and 16 of them for initial training\r\n",
    "# The plan is to train/validate, then model them, ensemble them, and re-train using combination\r\n",
    "# of all train+validation. Then make predictions\r\n",
    "# The mean encoding can be done to the respective datasets after split"
   ],
   "metadata": {}
  },
  {
   "cell_type": "code",
   "execution_count": 112,
   "source": [
    "X_train     =all_data.query('date_block_num>12 and date_block_num<28').copy()\r\n",
    "X_validation=all_data.query('date_block_num>=28 and date_block_num<34').copy()\r\n",
    "X_test      =all_data.query('date_block_num==34').copy()\r\n",
    "all_train   =all_data.query('date_block_num<34').copy()"
   ],
   "outputs": [],
   "metadata": {}
  },
  {
   "cell_type": "code",
   "execution_count": 113,
   "source": [
    "y_train     = X_train['target'].values\r\n",
    "y_validation= X_validation['target'].values\r\n",
    "y_test      = X_test['target'].values\r\n",
    "\r\n",
    "X_train     = X_train.drop(to_drop_cols, axis=1)\r\n",
    "X_validation= X_validation.drop(to_drop_cols,axis=1)\r\n",
    "X_test      = X_test.drop(to_drop_cols, axis=1)\r\n"
   ],
   "outputs": [],
   "metadata": {}
  },
  {
   "cell_type": "code",
   "execution_count": 121,
   "source": [
    "# Mean encoding here\r\n",
    "# We have 5 categorical features: year, month, shop_id, item_id and item_category_id\r\n",
    "# We should use the combination of train/validation set target mean to encode.\r\n",
    "\r\n",
    "means_shop_id =all_train.groupby('shop_id').target.mean()\r\n",
    "means_item_id =all_train.groupby('item_id').target.mean()\r\n",
    "means_category=all_train.groupby('item_category_id').target.mean()\r\n",
    "means_year    =all_train.groupby('year').target.mean()\r\n",
    "means_month   =all_train.groupby('month').target.mean()\r\n"
   ],
   "outputs": [],
   "metadata": {}
  },
  {
   "cell_type": "code",
   "execution_count": 122,
   "source": [
    "X_train['shop_id'+'_mean_target']=X_train['shop_id'].map(means_shop_id)\r\n",
    "X_validation['shop_id'+'_mean_target']=X_validation['shop_id'].map(means_shop_id)\r\n",
    "all_train['shop_id'+'_mean_target']=all_train['shop_id'].map(means_shop_id)\r\n",
    "X_test['shop_id'+'_mean_target']=X_test['shop_id'].map(means_shop_id)\r\n",
    "\r\n",
    "X_train['item_id'+'_mean_target']=X_train['item_id'].map(means_item_id)\r\n",
    "X_validation['item_id'+'_mean_target']=X_validation['item_id'].map(means_item_id)\r\n",
    "all_train['item_id'+'_mean_target']=all_train['item_id'].map(means_item_id)\r\n",
    "X_test['item_id'+'_mean_target']=X_test['item_id'].map(means_item_id)\r\n",
    "\r\n",
    "X_train['category'+'_mean_target']=X_train['item_category_id'].map(means_category)\r\n",
    "X_validation['category'+'_mean_target']=X_validation['item_category_id'].map(means_category)\r\n",
    "all_train['category'+'_mean_target']=all_train['item_category_id'].map(means_category)\r\n",
    "X_test['category'+'_mean_target']=X_test['item_category_id'].map(means_category)\r\n",
    "\r\n",
    "X_train['year'+'_mean_target']=X_train['year'].map(means_year)\r\n",
    "X_validation['year'+'_mean_target']=X_validation['year'].map(means_year)\r\n",
    "all_train['year'+'_mean_target']=all_train['year'].map(means_year)\r\n",
    "X_test['year'+'_mean_target']=X_test['year'].map(means_year)\r\n",
    "\r\n",
    "X_train['month'+'_mean_target']=X_train['month'].map(means_month)\r\n",
    "X_validation['month'+'_mean_target']=X_validation['month'].map(means_month)\r\n",
    "all_train['month'+'_mean_target']=all_train['month'].map(means_month)\r\n",
    "X_test['month'+'_mean_target']=X_test['month'].map(means_month)\r\n",
    "\r\n",
    "X_test.fillna(X_test.mean(), inplace=True)"
   ],
   "outputs": [],
   "metadata": {}
  },
  {
   "cell_type": "markdown",
   "source": [
    "### Target range - Clip it to [0, 20]"
   ],
   "metadata": {}
  },
  {
   "cell_type": "code",
   "execution_count": 123,
   "source": [
    "target_range = [0, 20]\r\n",
    "target_range"
   ],
   "outputs": [
    {
     "output_type": "execute_result",
     "data": {
      "text/plain": [
       "[0, 20]"
      ]
     },
     "metadata": {},
     "execution_count": 123
    }
   ],
   "metadata": {}
  },
  {
   "cell_type": "code",
   "execution_count": null,
   "source": [
    "# Finally, for test dataset, it does not have mean encoded features. "
   ],
   "outputs": [],
   "metadata": {}
  },
  {
   "cell_type": "markdown",
   "source": [
    "## Modelling"
   ],
   "metadata": {}
  },
  {
   "cell_type": "markdown",
   "source": [
    "### LightGBM method. Here you may manually change what features to use.  Here I did not use mean encoded features - a test that include mean encoded feature end up with lower scores"
   ],
   "metadata": {}
  },
  {
   "cell_type": "code",
   "execution_count": 129,
   "source": [
    "# Use only part of features on XGBoost. - alternatively , use X_train.columns to include all features\r\n",
    "lgb_features = (['shop_id', 'item_id', 'target_lag_1', 'target_item_lag_1',\r\n",
    "       'target_shop_lag_1', 'target_lag_2', 'target_item_lag_2',\r\n",
    "       'target_shop_lag_2', 'target_lag_3', 'target_item_lag_3',\r\n",
    "       'target_shop_lag_3', 'target_lag_12', 'target_item_lag_12',\r\n",
    "       'target_shop_lag_12', 'item_category_id', 'year', 'month'])\r\n",
    "lgb_train = X_train[lgb_features]\r\n",
    "lgb_validation=X_validation[lgb_features]\r\n",
    "lgb_test= X_test[lgb_features]"
   ],
   "outputs": [],
   "metadata": {}
  },
  {
   "cell_type": "code",
   "execution_count": 132,
   "source": [
    "lgb_train.head().T"
   ],
   "outputs": [
    {
     "output_type": "execute_result",
     "data": {
      "text/html": [
       "<div>\n",
       "<style scoped>\n",
       "    .dataframe tbody tr th:only-of-type {\n",
       "        vertical-align: middle;\n",
       "    }\n",
       "\n",
       "    .dataframe tbody tr th {\n",
       "        vertical-align: top;\n",
       "    }\n",
       "\n",
       "    .dataframe thead th {\n",
       "        text-align: right;\n",
       "    }\n",
       "</style>\n",
       "<table border=\"1\" class=\"dataframe\">\n",
       "  <thead>\n",
       "    <tr style=\"text-align: right;\">\n",
       "      <th></th>\n",
       "      <th>347346</th>\n",
       "      <th>347347</th>\n",
       "      <th>347348</th>\n",
       "      <th>347349</th>\n",
       "      <th>347350</th>\n",
       "    </tr>\n",
       "  </thead>\n",
       "  <tbody>\n",
       "    <tr>\n",
       "      <th>shop_id</th>\n",
       "      <td>27.0</td>\n",
       "      <td>27.0</td>\n",
       "      <td>27.0</td>\n",
       "      <td>27.0</td>\n",
       "      <td>27.0</td>\n",
       "    </tr>\n",
       "    <tr>\n",
       "      <th>item_id</th>\n",
       "      <td>15242.0</td>\n",
       "      <td>15200.0</td>\n",
       "      <td>15279.0</td>\n",
       "      <td>15202.0</td>\n",
       "      <td>14888.0</td>\n",
       "    </tr>\n",
       "    <tr>\n",
       "      <th>target_lag_1</th>\n",
       "      <td>1.0</td>\n",
       "      <td>0.0</td>\n",
       "      <td>2.0</td>\n",
       "      <td>0.0</td>\n",
       "      <td>2.0</td>\n",
       "    </tr>\n",
       "    <tr>\n",
       "      <th>target_item_lag_1</th>\n",
       "      <td>9.0</td>\n",
       "      <td>1.0</td>\n",
       "      <td>48.0</td>\n",
       "      <td>2.0</td>\n",
       "      <td>21.0</td>\n",
       "    </tr>\n",
       "    <tr>\n",
       "      <th>target_shop_lag_1</th>\n",
       "      <td>5451.0</td>\n",
       "      <td>5451.0</td>\n",
       "      <td>5451.0</td>\n",
       "      <td>5451.0</td>\n",
       "      <td>5451.0</td>\n",
       "    </tr>\n",
       "    <tr>\n",
       "      <th>target_lag_2</th>\n",
       "      <td>1.0</td>\n",
       "      <td>0.0</td>\n",
       "      <td>3.0</td>\n",
       "      <td>0.0</td>\n",
       "      <td>0.0</td>\n",
       "    </tr>\n",
       "    <tr>\n",
       "      <th>target_item_lag_2</th>\n",
       "      <td>28.0</td>\n",
       "      <td>1.0</td>\n",
       "      <td>52.0</td>\n",
       "      <td>15.0</td>\n",
       "      <td>32.0</td>\n",
       "    </tr>\n",
       "    <tr>\n",
       "      <th>target_shop_lag_2</th>\n",
       "      <td>7983.0</td>\n",
       "      <td>7983.0</td>\n",
       "      <td>7983.0</td>\n",
       "      <td>7983.0</td>\n",
       "      <td>7983.0</td>\n",
       "    </tr>\n",
       "    <tr>\n",
       "      <th>target_lag_3</th>\n",
       "      <td>0.0</td>\n",
       "      <td>0.0</td>\n",
       "      <td>0.0</td>\n",
       "      <td>0.0</td>\n",
       "      <td>1.0</td>\n",
       "    </tr>\n",
       "    <tr>\n",
       "      <th>target_item_lag_3</th>\n",
       "      <td>10.0</td>\n",
       "      <td>0.0</td>\n",
       "      <td>0.0</td>\n",
       "      <td>5.0</td>\n",
       "      <td>44.0</td>\n",
       "    </tr>\n",
       "    <tr>\n",
       "      <th>target_shop_lag_3</th>\n",
       "      <td>4805.0</td>\n",
       "      <td>0.0</td>\n",
       "      <td>0.0</td>\n",
       "      <td>4805.0</td>\n",
       "      <td>4805.0</td>\n",
       "    </tr>\n",
       "    <tr>\n",
       "      <th>target_lag_12</th>\n",
       "      <td>0.0</td>\n",
       "      <td>0.0</td>\n",
       "      <td>0.0</td>\n",
       "      <td>0.0</td>\n",
       "      <td>0.0</td>\n",
       "    </tr>\n",
       "    <tr>\n",
       "      <th>target_item_lag_12</th>\n",
       "      <td>0.0</td>\n",
       "      <td>0.0</td>\n",
       "      <td>0.0</td>\n",
       "      <td>5.0</td>\n",
       "      <td>0.0</td>\n",
       "    </tr>\n",
       "    <tr>\n",
       "      <th>target_shop_lag_12</th>\n",
       "      <td>0.0</td>\n",
       "      <td>0.0</td>\n",
       "      <td>0.0</td>\n",
       "      <td>4546.0</td>\n",
       "      <td>0.0</td>\n",
       "    </tr>\n",
       "    <tr>\n",
       "      <th>item_category_id</th>\n",
       "      <td>63.0</td>\n",
       "      <td>69.0</td>\n",
       "      <td>63.0</td>\n",
       "      <td>69.0</td>\n",
       "      <td>55.0</td>\n",
       "    </tr>\n",
       "    <tr>\n",
       "      <th>year</th>\n",
       "      <td>2014.0</td>\n",
       "      <td>2014.0</td>\n",
       "      <td>2014.0</td>\n",
       "      <td>2014.0</td>\n",
       "      <td>2014.0</td>\n",
       "    </tr>\n",
       "    <tr>\n",
       "      <th>month</th>\n",
       "      <td>2.0</td>\n",
       "      <td>2.0</td>\n",
       "      <td>2.0</td>\n",
       "      <td>2.0</td>\n",
       "      <td>2.0</td>\n",
       "    </tr>\n",
       "  </tbody>\n",
       "</table>\n",
       "</div>"
      ],
      "text/plain": [
       "                     347346   347347   347348   347349   347350\n",
       "shop_id                27.0     27.0     27.0     27.0     27.0\n",
       "item_id             15242.0  15200.0  15279.0  15202.0  14888.0\n",
       "target_lag_1            1.0      0.0      2.0      0.0      2.0\n",
       "target_item_lag_1       9.0      1.0     48.0      2.0     21.0\n",
       "target_shop_lag_1    5451.0   5451.0   5451.0   5451.0   5451.0\n",
       "target_lag_2            1.0      0.0      3.0      0.0      0.0\n",
       "target_item_lag_2      28.0      1.0     52.0     15.0     32.0\n",
       "target_shop_lag_2    7983.0   7983.0   7983.0   7983.0   7983.0\n",
       "target_lag_3            0.0      0.0      0.0      0.0      1.0\n",
       "target_item_lag_3      10.0      0.0      0.0      5.0     44.0\n",
       "target_shop_lag_3    4805.0      0.0      0.0   4805.0   4805.0\n",
       "target_lag_12           0.0      0.0      0.0      0.0      0.0\n",
       "target_item_lag_12      0.0      0.0      0.0      5.0      0.0\n",
       "target_shop_lag_12      0.0      0.0      0.0   4546.0      0.0\n",
       "item_category_id       63.0     69.0     63.0     69.0     55.0\n",
       "year                 2014.0   2014.0   2014.0   2014.0   2014.0\n",
       "month                   2.0      2.0      2.0      2.0      2.0"
      ]
     },
     "metadata": {},
     "execution_count": 132
    }
   ],
   "metadata": {}
  },
  {
   "cell_type": "code",
   "execution_count": 130,
   "source": [
    "lgb_params = {\r\n",
    "               'feature_fraction': 0.75,\r\n",
    "               'metric': 'rmse',\r\n",
    "               'nthread':1, \r\n",
    "               'min_data_in_leaf': 2**7, \r\n",
    "               'bagging_fraction': 0.75, \r\n",
    "               'learning_rate': 0.03, \r\n",
    "               'objective': 'mse', \r\n",
    "               'bagging_seed': 2**7,\r\n",
    "               'num_leaves': 2**7,\r\n",
    "               'bagging_freq':1,\r\n",
    "               'verbose':0 \r\n",
    "              }\r\n",
    "\r\n",
    "#model = lgb.train(lgb_params, lgb.Dataset(X_train, label=y_train), 100)\r\n",
    "lgb_model = lgb.train(lgb_params, lgb.Dataset(lgb_train, label=y_train), 100)\r\n",
    "\r\n",
    "Y_train_lgb=lgb_model.predict(lgb_train).clip(*target_range)\r\n",
    "Y_validation_lgb=lgb_model.predict(lgb_validation).clip(*target_range)\r\n",
    "Y_test_lgb=lgb_model.predict(lgb_test).clip(*target_range)\r\n",
    "print('Training RMSE',np.sqrt(mean_squared_error(y_train, Y_train_lgb)))\r\n",
    "print('Validation RMSE',np.sqrt(mean_squared_error(y_validation, Y_validation_lgb)))\r\n"
   ],
   "outputs": [
    {
     "output_type": "stream",
     "name": "stdout",
     "text": [
      "[LightGBM] [Warning] Auto-choosing row-wise multi-threading, the overhead of testing was 0.325266 seconds.\n",
      "You can set `force_row_wise=true` to remove the overhead.\n",
      "And if memory is not enough, you can set `force_col_wise=true`.\n",
      "Training RMSE 3.163164873146352\n",
      "Validation RMSE 4.01138358304238\n"
     ]
    }
   ],
   "metadata": {}
  },
  {
   "cell_type": "markdown",
   "source": [],
   "metadata": {}
  },
  {
   "cell_type": "code",
   "execution_count": 133,
   "source": [
    "submission = pd.DataFrame({'ID': sample_submission.ID, 'item_cnt_month': Y_test_lgb})\r\n",
    "submission.to_csv('Predictions/submission_lgb027morning3.csv', index=False)\r\n",
    "# I have attempted submitting it and got score 8/10 for this method alone. "
   ],
   "outputs": [],
   "metadata": {}
  },
  {
   "cell_type": "markdown",
   "source": [
    "### XGBoost Next\r\n",
    "### We expect to see similar scores compare with lightgbm"
   ],
   "metadata": {}
  },
  {
   "cell_type": "code",
   "execution_count": 142,
   "source": [
    "xgb_features=['item_category_id','item_id','shop_id','month','target_lag_1','target_lag_2','target_lag_3','target_shop_lag_1','target_item_lag_1']\r\n",
    "xgb_train = X_train[xgb_features]\r\n",
    "xgb_validation = X_validation[xgb_features]\r\n",
    "xgb_test = X_test[xgb_features]"
   ],
   "outputs": [],
   "metadata": {}
  },
  {
   "cell_type": "code",
   "execution_count": 143,
   "source": [
    "xgb_model = XGBRegressor(max_depth=8, \r\n",
    "                         n_estimators=500, \r\n",
    "                         min_child_weight=1000,  \r\n",
    "                         colsample_bytree=0.7, \r\n",
    "                         subsample=0.7, \r\n",
    "                         eta=0.3, \r\n",
    "                         seed=0)\r\n",
    "xgb_model.fit(xgb_train, \r\n",
    "              y_train, \r\n",
    "              eval_metric=\"rmse\", \r\n",
    "              eval_set=[(xgb_train, y_train),(xgb_validation, y_validation)],  # (xgb_val, Y_validation) \r\n",
    "              verbose=20, \r\n",
    "              early_stopping_rounds=10)"
   ],
   "outputs": [
    {
     "output_type": "stream",
     "name": "stdout",
     "text": [
      "[0]\tvalidation_0-rmse:3.26343\tvalidation_1-rmse:4.04188\n",
      "[20]\tvalidation_0-rmse:2.89351\tvalidation_1-rmse:3.84161\n",
      "[22]\tvalidation_0-rmse:2.88868\tvalidation_1-rmse:3.83780\n"
     ]
    },
    {
     "output_type": "execute_result",
     "data": {
      "text/plain": [
       "XGBRegressor(base_score=0.5, booster='gbtree', colsample_bylevel=1,\n",
       "             colsample_bynode=1, colsample_bytree=0.7, eta=0.3, gamma=0,\n",
       "             gpu_id=-1, importance_type='gain', interaction_constraints='',\n",
       "             learning_rate=0.300000012, max_delta_step=0, max_depth=8,\n",
       "             min_child_weight=1000, missing=nan, monotone_constraints='()',\n",
       "             n_estimators=500, n_jobs=12, num_parallel_tree=1, random_state=0,\n",
       "             reg_alpha=0, reg_lambda=1, scale_pos_weight=1, seed=0,\n",
       "             subsample=0.7, tree_method='approx', validate_parameters=1,\n",
       "             verbosity=None)"
      ]
     },
     "metadata": {},
     "execution_count": 143
    }
   ],
   "metadata": {}
  },
  {
   "cell_type": "code",
   "execution_count": 144,
   "source": [
    "plt.rcParams[\"figure.figsize\"] = (15, 6)\r\n",
    "plot_importance(xgb_model)\r\n",
    "plt.show()"
   ],
   "outputs": [
    {
     "output_type": "display_data",
     "data": {
      "image/png": "[encoded data removed]",
      "text/plain": [
       "<Figure size 1080x432 with 1 Axes>"
      ]
     },
     "metadata": {
      "needs_background": "light"
     }
    }
   ],
   "metadata": {}
  },
  {
   "cell_type": "code",
   "execution_count": 145,
   "source": [
    "Y_train_xgb = xgb_model.predict(xgb_train)\r\n",
    "Y_validation_xgb   = xgb_model.predict(xgb_validation)\r\n",
    "Y_test_xgb  = xgb_model.predict(xgb_test)\r\n",
    "submission = pd.DataFrame({'ID': sample_submission.ID, 'item_cnt_month': Y_test_xgb})\r\n",
    "submission.to_csv('Predictions/submission_xgb0927morning3.csv', index=False)"
   ],
   "outputs": [],
   "metadata": {}
  },
  {
   "cell_type": "markdown",
   "source": [
    "### Ensemble at the second level - \r\n",
    "Step1:  combine the validation predictions from all these 2 learners, and create a label that corresponds to the validation set target\r\n",
    "This serves as the meta data (meta of target);\r\n",
    "Step2: create a test dataset by similar methods, using test dataset prediction\r\n",
    "Step3: train meta model linearly (second level is lr): The meta model without target is the input, validation target as target\r\n",
    "Step4: use the retrained model3, use test dataset at step2 as input, make final prediction.\r\n",
    "we can check rmse of final prediction vs. validation set"
   ],
   "metadata": {}
  },
  {
   "cell_type": "code",
   "execution_count": 150,
   "source": [
    "# Step1\r\n",
    "Firstlevel=pd.DataFrame(Y_validation_lgb,columns=['lgb'])\r\n",
    "Firstlevel['xgb']=Y_validation_xgb   \r\n",
    "Firstlevel['Target']=y_validation                     \r\n",
    "Firstlevel.head(5)"
   ],
   "outputs": [
    {
     "output_type": "execute_result",
     "data": {
      "text/html": [
       "<div>\n",
       "<style scoped>\n",
       "    .dataframe tbody tr th:only-of-type {\n",
       "        vertical-align: middle;\n",
       "    }\n",
       "\n",
       "    .dataframe tbody tr th {\n",
       "        vertical-align: top;\n",
       "    }\n",
       "\n",
       "    .dataframe thead th {\n",
       "        text-align: right;\n",
       "    }\n",
       "</style>\n",
       "<table border=\"1\" class=\"dataframe\">\n",
       "  <thead>\n",
       "    <tr style=\"text-align: right;\">\n",
       "      <th></th>\n",
       "      <th>lgb</th>\n",
       "      <th>xgb</th>\n",
       "      <th>Target</th>\n",
       "    </tr>\n",
       "  </thead>\n",
       "  <tbody>\n",
       "    <tr>\n",
       "      <th>0</th>\n",
       "      <td>0.355508</td>\n",
       "      <td>0.151579</td>\n",
       "      <td>2.0</td>\n",
       "    </tr>\n",
       "    <tr>\n",
       "      <th>1</th>\n",
       "      <td>0.077210</td>\n",
       "      <td>0.063644</td>\n",
       "      <td>1.0</td>\n",
       "    </tr>\n",
       "    <tr>\n",
       "      <th>2</th>\n",
       "      <td>0.108411</td>\n",
       "      <td>0.106434</td>\n",
       "      <td>1.0</td>\n",
       "    </tr>\n",
       "    <tr>\n",
       "      <th>3</th>\n",
       "      <td>0.479284</td>\n",
       "      <td>0.528888</td>\n",
       "      <td>2.0</td>\n",
       "    </tr>\n",
       "    <tr>\n",
       "      <th>4</th>\n",
       "      <td>1.480797</td>\n",
       "      <td>0.849134</td>\n",
       "      <td>2.0</td>\n",
       "    </tr>\n",
       "  </tbody>\n",
       "</table>\n",
       "</div>"
      ],
      "text/plain": [
       "        lgb       xgb  Target\n",
       "0  0.355508  0.151579     2.0\n",
       "1  0.077210  0.063644     1.0\n",
       "2  0.108411  0.106434     1.0\n",
       "3  0.479284  0.528888     2.0\n",
       "4  1.480797  0.849134     2.0"
      ]
     },
     "metadata": {},
     "execution_count": 150
    }
   ],
   "metadata": {}
  },
  {
   "cell_type": "code",
   "execution_count": 151,
   "source": [
    "# step 2\r\n",
    "Firstlevel_test       =pd.DataFrame(Y_test_lgb,columns=['lgb'])\r\n",
    "Firstlevel_test['xgb'] =Y_test_xgb                      \r\n",
    "Firstlevel.head(5)"
   ],
   "outputs": [
    {
     "output_type": "execute_result",
     "data": {
      "text/html": [
       "<div>\n",
       "<style scoped>\n",
       "    .dataframe tbody tr th:only-of-type {\n",
       "        vertical-align: middle;\n",
       "    }\n",
       "\n",
       "    .dataframe tbody tr th {\n",
       "        vertical-align: top;\n",
       "    }\n",
       "\n",
       "    .dataframe thead th {\n",
       "        text-align: right;\n",
       "    }\n",
       "</style>\n",
       "<table border=\"1\" class=\"dataframe\">\n",
       "  <thead>\n",
       "    <tr style=\"text-align: right;\">\n",
       "      <th></th>\n",
       "      <th>lgb</th>\n",
       "      <th>xgb</th>\n",
       "      <th>Target</th>\n",
       "    </tr>\n",
       "  </thead>\n",
       "  <tbody>\n",
       "    <tr>\n",
       "      <th>0</th>\n",
       "      <td>0.355508</td>\n",
       "      <td>0.151579</td>\n",
       "      <td>2.0</td>\n",
       "    </tr>\n",
       "    <tr>\n",
       "      <th>1</th>\n",
       "      <td>0.077210</td>\n",
       "      <td>0.063644</td>\n",
       "      <td>1.0</td>\n",
       "    </tr>\n",
       "    <tr>\n",
       "      <th>2</th>\n",
       "      <td>0.108411</td>\n",
       "      <td>0.106434</td>\n",
       "      <td>1.0</td>\n",
       "    </tr>\n",
       "    <tr>\n",
       "      <th>3</th>\n",
       "      <td>0.479284</td>\n",
       "      <td>0.528888</td>\n",
       "      <td>2.0</td>\n",
       "    </tr>\n",
       "    <tr>\n",
       "      <th>4</th>\n",
       "      <td>1.480797</td>\n",
       "      <td>0.849134</td>\n",
       "      <td>2.0</td>\n",
       "    </tr>\n",
       "  </tbody>\n",
       "</table>\n",
       "</div>"
      ],
      "text/plain": [
       "        lgb       xgb  Target\n",
       "0  0.355508  0.151579     2.0\n",
       "1  0.077210  0.063644     1.0\n",
       "2  0.108411  0.106434     1.0\n",
       "3  0.479284  0.528888     2.0\n",
       "4  1.480797  0.849134     2.0"
      ]
     },
     "metadata": {},
     "execution_count": 151
    }
   ],
   "metadata": {}
  },
  {
   "cell_type": "code",
   "execution_count": 152,
   "source": [
    "# step 3 \r\n",
    "Metalrmodel = LinearRegression(n_jobs=-1)\r\n",
    "Firstlevel.drop('Target', axis=1, inplace=True)\r\n",
    "Metalrmodel.fit(Firstlevel, y_validation)"
   ],
   "outputs": [
    {
     "output_type": "execute_result",
     "data": {
      "text/plain": [
       "LinearRegression(n_jobs=-1)"
      ]
     },
     "metadata": {},
     "execution_count": 152
    }
   ],
   "metadata": {}
  },
  {
   "cell_type": "code",
   "execution_count": 153,
   "source": [
    "# Step 4\r\n",
    "Ensemble_validation_lr=Metalrmodel.predict(Firstlevel).clip(*target_range)\r\n",
    "Ensemble_test_lr      =Metalrmodel.predict(Firstlevel_test).clip(*target_range)\r\n",
    "print('Train rmse:', np.sqrt(mean_squared_error(Ensemble_validation_lr, y_validation)))"
   ],
   "outputs": [
    {
     "output_type": "stream",
     "name": "stdout",
     "text": [
      "Train rmse: 4.009200894061403\n"
     ]
    }
   ],
   "metadata": {}
  },
  {
   "cell_type": "code",
   "execution_count": 154,
   "source": [
    "submission = pd.DataFrame({'ID': sample_submission.ID, 'item_cnt_month': Ensemble_test_lr})\r\n",
    "submission.to_csv('Predictions/submission_Ensemble09272021morning.csv', index=False)"
   ],
   "outputs": [],
   "metadata": {}
  },
  {
   "cell_type": "markdown",
   "source": [
    "### Conclusion\r\n",
    "- item category feature is the key to good prediction - although it was not provided at test set\r\n",
    "- mean encoding sometimes failed to improve fit\r\n",
    "- ensembling can be tricky sometimes. Simple weighted averaging might work better than stacking\r\n",
    "- need to pay attention to data leakage - here the test set has values never appeared in raw training set, requires EDA carefully"
   ],
   "metadata": {}
  },
  {
   "cell_type": "code",
   "execution_count": null,
   "source": [],
   "outputs": [],
   "metadata": {}
  }
 ],
 "metadata": {
  "interpreter": {
   "hash": "2e27d4c62a4b72c0d8957be5c4d2fc8b799c6c57d866bfb2008d840e0e4e429a"
  },
  "kernelspec": {
   "name": "python3",
   "display_name": "Python 3.8.3 64-bit ('base': conda)"
  },
  "language_info": {
   "codemirror_mode": {
    "name": "ipython",
    "version": 3
   },
   "file_extension": ".py",
   "mimetype": "text/x-python",
   "name": "python",
   "nbconvert_exporter": "python",
   "pygments_lexer": "ipython3",
   "version": "3.8.3"
  }
 },
 "nbformat": 4,
 "nbformat_minor": 4
}